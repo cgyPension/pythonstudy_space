{
 "cells": [
  {
   "cell_type": "markdown",
   "id": "7ff53cd9",
   "metadata": {},
   "source": [
    "https://tushare.pro/document/2?doc_id=27"
   ]
  },
  {
   "cell_type": "code",
   "execution_count": 1,
   "id": "be317d25",
   "metadata": {
    "scrolled": false
   },
   "outputs": [
    {
     "name": "stdout",
     "output_type": "stream",
     "text": [
      "Collecting tushare\n",
      "  Downloading tushare-1.2.85-py3-none-any.whl (130 kB)\n",
      "Collecting websocket-client==0.57.0\n",
      "  Downloading websocket_client-0.57.0-py2.py3-none-any.whl (200 kB)\n",
      "Requirement already satisfied: requests in d:\\software\\anaconda3\\lib\\site-packages (from tushare) (2.27.1)\n",
      "Requirement already satisfied: pandas in d:\\software\\anaconda3\\lib\\site-packages (from tushare) (1.4.2)\n",
      "Collecting bs4\n",
      "  Downloading bs4-0.0.1.tar.gz (1.1 kB)\n",
      "Requirement already satisfied: lxml in d:\\software\\anaconda3\\lib\\site-packages (from tushare) (4.8.0)\n",
      "Collecting simplejson\n",
      "  Downloading simplejson-3.18.0-cp39-cp39-win_amd64.whl (76 kB)\n",
      "Requirement already satisfied: six in d:\\software\\anaconda3\\lib\\site-packages (from websocket-client==0.57.0->tushare) (1.16.0)\n",
      "Requirement already satisfied: beautifulsoup4 in d:\\software\\anaconda3\\lib\\site-packages (from bs4->tushare) (4.11.1)\n",
      "Requirement already satisfied: soupsieve>1.2 in d:\\software\\anaconda3\\lib\\site-packages (from beautifulsoup4->bs4->tushare) (2.3.1)\n",
      "Requirement already satisfied: pytz>=2020.1 in d:\\software\\anaconda3\\lib\\site-packages (from pandas->tushare) (2021.3)\n",
      "Requirement already satisfied: numpy>=1.18.5 in d:\\software\\anaconda3\\lib\\site-packages (from pandas->tushare) (1.21.5)\n",
      "Requirement already satisfied: python-dateutil>=2.8.1 in d:\\software\\anaconda3\\lib\\site-packages (from pandas->tushare) (2.8.2)\n",
      "Requirement already satisfied: charset-normalizer~=2.0.0 in d:\\software\\anaconda3\\lib\\site-packages (from requests->tushare) (2.0.4)\n",
      "Requirement already satisfied: urllib3<1.27,>=1.21.1 in d:\\software\\anaconda3\\lib\\site-packages (from requests->tushare) (1.26.9)\n",
      "Requirement already satisfied: idna<4,>=2.5 in d:\\software\\anaconda3\\lib\\site-packages (from requests->tushare) (3.3)\n",
      "Requirement already satisfied: certifi>=2017.4.17 in d:\\software\\anaconda3\\lib\\site-packages (from requests->tushare) (2021.10.8)\n",
      "Building wheels for collected packages: bs4\n",
      "  Building wheel for bs4 (setup.py): started\n",
      "  Building wheel for bs4 (setup.py): finished with status 'done'\n",
      "  Created wheel for bs4: filename=bs4-0.0.1-py3-none-any.whl size=1272 sha256=46c1f0ef14bcbaab68867821edadc64f94d1c041f0cfcae2c236518b9162930f\n",
      "  Stored in directory: c:\\users\\administrator\\appdata\\local\\pip\\cache\\wheels\\73\\2b\\cb\\099980278a0c9a3e57ff1a89875ec07bfa0b6fcbebb9a8cad3\n",
      "Successfully built bs4\n",
      "Installing collected packages: websocket-client, simplejson, bs4, tushare\n",
      "  Attempting uninstall: websocket-client\n",
      "    Found existing installation: websocket-client 0.58.0\n",
      "    Uninstalling websocket-client-0.58.0:\n",
      "      Successfully uninstalled websocket-client-0.58.0\n",
      "Successfully installed bs4-0.0.1 simplejson-3.18.0 tushare-1.2.85 websocket-client-0.57.0\n",
      "Note: you may need to restart the kernel to use updated packages.\n"
     ]
    },
    {
     "name": "stderr",
     "output_type": "stream",
     "text": [
      "ERROR: pip's dependency resolver does not currently take into account all the packages that are installed. This behaviour is the source of the following dependency conflicts.\n",
      "jupyter-server 1.13.5 requires pywinpty<2; os_name == \"nt\", but you have pywinpty 2.0.2 which is incompatible.\n"
     ]
    }
   ],
   "source": [
    "pip install tushare"
   ]
  },
  {
   "cell_type": "code",
   "execution_count": 2,
   "id": "a1d982de",
   "metadata": {},
   "outputs": [
    {
     "ename": "OptionError",
     "evalue": "'Pattern matched multiple keys'",
     "output_type": "error",
     "traceback": [
      "\u001B[1;31m---------------------------------------------------------------------------\u001B[0m",
      "\u001B[1;31mOptionError\u001B[0m                               Traceback (most recent call last)",
      "Input \u001B[1;32mIn [2]\u001B[0m, in \u001B[0;36m<cell line: 1>\u001B[1;34m()\u001B[0m\n\u001B[1;32m----> 1\u001B[0m \u001B[38;5;28;01mimport\u001B[39;00m \u001B[38;5;21;01mtushare\u001B[39;00m \u001B[38;5;28;01mas\u001B[39;00m \u001B[38;5;21;01mts\u001B[39;00m\n",
      "File \u001B[1;32mD:\\code\\pythonstudy_space\\06_科大财经课程\\第一节\\tushare.py:14\u001B[0m, in \u001B[0;36m<module>\u001B[1;34m\u001B[0m\n\u001B[0;32m     12\u001B[0m warnings\u001B[38;5;241m.\u001B[39mfilterwarnings(\u001B[38;5;124m\"\u001B[39m\u001B[38;5;124mignore\u001B[39m\u001B[38;5;124m\"\u001B[39m)\n\u001B[0;32m     13\u001B[0m \u001B[38;5;66;03m# 输出显示设置\u001B[39;00m\n\u001B[1;32m---> 14\u001B[0m \u001B[43mpd\u001B[49m\u001B[38;5;241;43m.\u001B[39;49m\u001B[43mset_option\u001B[49m\u001B[43m(\u001B[49m\u001B[38;5;124;43m'\u001B[39;49m\u001B[38;5;124;43mmax_rows\u001B[39;49m\u001B[38;5;124;43m'\u001B[39;49m\u001B[43m,\u001B[49m\u001B[43m \u001B[49m\u001B[38;5;28;43;01mNone\u001B[39;49;00m\u001B[43m)\u001B[49m\n\u001B[0;32m     15\u001B[0m pd\u001B[38;5;241m.\u001B[39mset_option(\u001B[38;5;124m'\u001B[39m\u001B[38;5;124mmax_columns\u001B[39m\u001B[38;5;124m'\u001B[39m, \u001B[38;5;28;01mNone\u001B[39;00m)\n\u001B[0;32m     16\u001B[0m pd\u001B[38;5;241m.\u001B[39mset_option(\u001B[38;5;124m'\u001B[39m\u001B[38;5;124mexpand_frame_repr\u001B[39m\u001B[38;5;124m'\u001B[39m, \u001B[38;5;28;01mFalse\u001B[39;00m)\n",
      "File \u001B[1;32mD:\\software\\anaconda3\\lib\\site-packages\\pandas\\_config\\config.py:256\u001B[0m, in \u001B[0;36mCallableDynamicDoc.__call__\u001B[1;34m(self, *args, **kwds)\u001B[0m\n\u001B[0;32m    255\u001B[0m \u001B[38;5;28;01mdef\u001B[39;00m \u001B[38;5;21m__call__\u001B[39m(\u001B[38;5;28mself\u001B[39m, \u001B[38;5;241m*\u001B[39margs, \u001B[38;5;241m*\u001B[39m\u001B[38;5;241m*\u001B[39mkwds):\n\u001B[1;32m--> 256\u001B[0m     \u001B[38;5;28;01mreturn\u001B[39;00m \u001B[38;5;28mself\u001B[39m\u001B[38;5;241m.\u001B[39m\u001B[38;5;18m__func__\u001B[39m(\u001B[38;5;241m*\u001B[39margs, \u001B[38;5;241m*\u001B[39m\u001B[38;5;241m*\u001B[39mkwds)\n",
      "File \u001B[1;32mD:\\software\\anaconda3\\lib\\site-packages\\pandas\\_config\\config.py:149\u001B[0m, in \u001B[0;36m_set_option\u001B[1;34m(*args, **kwargs)\u001B[0m\n\u001B[0;32m    146\u001B[0m     \u001B[38;5;28;01mraise\u001B[39;00m \u001B[38;5;167;01mTypeError\u001B[39;00m(\u001B[38;5;124mf\u001B[39m\u001B[38;5;124m'\u001B[39m\u001B[38;5;124m_set_option() got an unexpected keyword argument \u001B[39m\u001B[38;5;124m\"\u001B[39m\u001B[38;5;132;01m{\u001B[39;00mkwarg\u001B[38;5;132;01m}\u001B[39;00m\u001B[38;5;124m\"\u001B[39m\u001B[38;5;124m'\u001B[39m)\n\u001B[0;32m    148\u001B[0m \u001B[38;5;28;01mfor\u001B[39;00m k, v \u001B[38;5;129;01min\u001B[39;00m \u001B[38;5;28mzip\u001B[39m(args[::\u001B[38;5;241m2\u001B[39m], args[\u001B[38;5;241m1\u001B[39m::\u001B[38;5;241m2\u001B[39m]):\n\u001B[1;32m--> 149\u001B[0m     key \u001B[38;5;241m=\u001B[39m \u001B[43m_get_single_key\u001B[49m\u001B[43m(\u001B[49m\u001B[43mk\u001B[49m\u001B[43m,\u001B[49m\u001B[43m \u001B[49m\u001B[43msilent\u001B[49m\u001B[43m)\u001B[49m\n\u001B[0;32m    151\u001B[0m     o \u001B[38;5;241m=\u001B[39m _get_registered_option(key)\n\u001B[0;32m    152\u001B[0m     \u001B[38;5;28;01mif\u001B[39;00m o \u001B[38;5;129;01mand\u001B[39;00m o\u001B[38;5;241m.\u001B[39mvalidator:\n",
      "File \u001B[1;32mD:\\software\\anaconda3\\lib\\site-packages\\pandas\\_config\\config.py:116\u001B[0m, in \u001B[0;36m_get_single_key\u001B[1;34m(pat, silent)\u001B[0m\n\u001B[0;32m    114\u001B[0m     \u001B[38;5;28;01mraise\u001B[39;00m OptionError(\u001B[38;5;124mf\u001B[39m\u001B[38;5;124m\"\u001B[39m\u001B[38;5;124mNo such keys(s): \u001B[39m\u001B[38;5;132;01m{\u001B[39;00m\u001B[38;5;28mrepr\u001B[39m(pat)\u001B[38;5;132;01m}\u001B[39;00m\u001B[38;5;124m\"\u001B[39m)\n\u001B[0;32m    115\u001B[0m \u001B[38;5;28;01mif\u001B[39;00m \u001B[38;5;28mlen\u001B[39m(keys) \u001B[38;5;241m>\u001B[39m \u001B[38;5;241m1\u001B[39m:\n\u001B[1;32m--> 116\u001B[0m     \u001B[38;5;28;01mraise\u001B[39;00m OptionError(\u001B[38;5;124m\"\u001B[39m\u001B[38;5;124mPattern matched multiple keys\u001B[39m\u001B[38;5;124m\"\u001B[39m)\n\u001B[0;32m    117\u001B[0m key \u001B[38;5;241m=\u001B[39m keys[\u001B[38;5;241m0\u001B[39m]\n\u001B[0;32m    119\u001B[0m \u001B[38;5;28;01mif\u001B[39;00m \u001B[38;5;129;01mnot\u001B[39;00m silent:\n",
      "\u001B[1;31mOptionError\u001B[0m: 'Pattern matched multiple keys'"
     ]
    }
   ],
   "source": [
    "import tushare as ts"
   ]
  },
  {
   "cell_type": "code",
   "execution_count": null,
   "id": "8cf94ddc",
   "metadata": {},
   "outputs": [],
   "source": [
    "ts.set_token('65686e5c83bc9b3db3752a5d94c7c471b0bc58695a2fb66cced015a6')\n",
    "pro = ts.pro_api()"
   ]
  },
  {
   "cell_type": "code",
   "execution_count": null,
   "id": "258acd42",
   "metadata": {},
   "outputs": [],
   "source": [
    "data = pro.stock_basic(exchange='', list_status='L', fields='ts_code,symbol,name,area,industry,list_date')"
   ]
  },
  {
   "cell_type": "code",
   "execution_count": null,
   "id": "8303e089",
   "metadata": {},
   "outputs": [],
   "source": [
    "data"
   ]
  },
  {
   "cell_type": "code",
   "execution_count": null,
   "id": "a71d1817",
   "metadata": {},
   "outputs": [],
   "source": [
    "df = pro.query('daily',ts_code='600000.SH',start_date='2017-01-01',end_date='2020-01-01')"
   ]
  },
  {
   "cell_type": "code",
   "execution_count": null,
   "id": "0b97bbe6",
   "metadata": {},
   "outputs": [],
   "source": [
    "df"
   ]
  },
  {
   "cell_type": "code",
   "execution_count": null,
   "id": "943f1648",
   "metadata": {},
   "outputs": [],
   "source": []
  }
 ],
 "metadata": {
  "kernelspec": {
   "display_name": "Python 3 (ipykernel)",
   "language": "python",
   "name": "python3"
  },
  "language_info": {
   "codemirror_mode": {
    "name": "ipython",
    "version": 3
   },
   "file_extension": ".py",
   "mimetype": "text/x-python",
   "name": "python",
   "nbconvert_exporter": "python",
   "pygments_lexer": "ipython3",
   "version": "3.9.12"
  },
  "toc": {
   "base_numbering": 1,
   "nav_menu": {},
   "number_sections": true,
   "sideBar": true,
   "skip_h1_title": false,
   "title_cell": "Table of Contents",
   "title_sidebar": "Contents",
   "toc_cell": false,
   "toc_position": {},
   "toc_section_display": true,
   "toc_window_display": false
  },
  "vscode": {
   "interpreter": {
    "hash": "a188c9036d7eeaebc6f77f9e77fe92b7de16926a7dd61bf5b5e0f4aa344b7ab8"
   }
  }
 },
 "nbformat": 4,
 "nbformat_minor": 5
}